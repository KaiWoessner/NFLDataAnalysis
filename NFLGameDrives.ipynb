{
  "nbformat": 4,
  "nbformat_minor": 0,
  "metadata": {
    "colab": {
      "provenance": [],
      "authorship_tag": "ABX9TyN6cg2zfsv88U3zrh045fvA",
      "include_colab_link": true
    },
    "kernelspec": {
      "name": "python3",
      "display_name": "Python 3"
    },
    "language_info": {
      "name": "python"
    }
  },
  "cells": [
    {
      "cell_type": "markdown",
      "metadata": {
        "id": "view-in-github",
        "colab_type": "text"
      },
      "source": [
        "<a href=\"https://colab.research.google.com/github/KaiWoessner/NFLDataAnalysis/blob/main/NFLGameDrives.ipynb\" target=\"_parent\"><img src=\"https://colab.research.google.com/assets/colab-badge.svg\" alt=\"Open In Colab\"/></a>"
      ]
    },
    {
      "cell_type": "code",
      "execution_count": 1,
      "metadata": {
        "colab": {
          "base_uri": "https://localhost:8080/"
        },
        "id": "ADQTT244Tlee",
        "outputId": "1a675c0c-4fc2-48cb-fba5-e3d8fca4d4e0"
      },
      "outputs": [
        {
          "output_type": "stream",
          "name": "stdout",
          "text": [
            "Collecting nfl_data_py\n",
            "  Downloading nfl_data_py-0.3.1.tar.gz (16 kB)\n",
            "  Preparing metadata (setup.py) ... \u001b[?25l\u001b[?25hdone\n",
            "Requirement already satisfied: pandas>1 in /usr/local/lib/python3.10/dist-packages (from nfl_data_py) (1.5.3)\n",
            "Requirement already satisfied: appdirs>1 in /usr/local/lib/python3.10/dist-packages (from nfl_data_py) (1.4.4)\n",
            "Collecting fastparquet>0.5 (from nfl_data_py)\n",
            "  Downloading fastparquet-2023.8.0-cp310-cp310-manylinux_2_17_x86_64.manylinux2014_x86_64.whl (1.7 MB)\n",
            "\u001b[2K     \u001b[90m━━━━━━━━━━━━━━━━━━━━━━━━━━━━━━━━━━━━━━━━\u001b[0m \u001b[32m1.7/1.7 MB\u001b[0m \u001b[31m6.7 MB/s\u001b[0m eta \u001b[36m0:00:00\u001b[0m\n",
            "\u001b[?25hCollecting python-snappy>0.5 (from nfl_data_py)\n",
            "  Downloading python_snappy-0.6.1-cp310-cp310-manylinux_2_12_x86_64.manylinux2010_x86_64.whl (55 kB)\n",
            "\u001b[2K     \u001b[90m━━━━━━━━━━━━━━━━━━━━━━━━━━━━━━━━━━━━━━━━\u001b[0m \u001b[32m55.9/55.9 kB\u001b[0m \u001b[31m6.8 MB/s\u001b[0m eta \u001b[36m0:00:00\u001b[0m\n",
            "\u001b[?25hRequirement already satisfied: numpy>=1.20.3 in /usr/local/lib/python3.10/dist-packages (from fastparquet>0.5->nfl_data_py) (1.23.5)\n",
            "Collecting cramjam>=2.3 (from fastparquet>0.5->nfl_data_py)\n",
            "  Downloading cramjam-2.7.0-cp310-cp310-manylinux_2_17_x86_64.manylinux2014_x86_64.whl (1.6 MB)\n",
            "\u001b[2K     \u001b[90m━━━━━━━━━━━━━━━━━━━━━━━━━━━━━━━━━━━━━━━━\u001b[0m \u001b[32m1.6/1.6 MB\u001b[0m \u001b[31m13.7 MB/s\u001b[0m eta \u001b[36m0:00:00\u001b[0m\n",
            "\u001b[?25hRequirement already satisfied: fsspec in /usr/local/lib/python3.10/dist-packages (from fastparquet>0.5->nfl_data_py) (2023.6.0)\n",
            "Requirement already satisfied: packaging in /usr/local/lib/python3.10/dist-packages (from fastparquet>0.5->nfl_data_py) (23.2)\n",
            "Requirement already satisfied: python-dateutil>=2.8.1 in /usr/local/lib/python3.10/dist-packages (from pandas>1->nfl_data_py) (2.8.2)\n",
            "Requirement already satisfied: pytz>=2020.1 in /usr/local/lib/python3.10/dist-packages (from pandas>1->nfl_data_py) (2023.3.post1)\n",
            "Requirement already satisfied: six>=1.5 in /usr/local/lib/python3.10/dist-packages (from python-dateutil>=2.8.1->pandas>1->nfl_data_py) (1.16.0)\n",
            "Building wheels for collected packages: nfl_data_py\n",
            "  Building wheel for nfl_data_py (setup.py) ... \u001b[?25l\u001b[?25hdone\n",
            "  Created wheel for nfl_data_py: filename=nfl_data_py-0.3.1-py3-none-any.whl size=13187 sha256=4534dfdf9cf9cfd74a22486bbe51c555a86c28dd64d159f6965a02d3934b0ad9\n",
            "  Stored in directory: /root/.cache/pip/wheels/ca/2e/d2/4def312ac7c070e1c0002e91ecc6923481a86c3ebd5b2c5413\n",
            "Successfully built nfl_data_py\n",
            "Installing collected packages: python-snappy, cramjam, fastparquet, nfl_data_py\n",
            "Successfully installed cramjam-2.7.0 fastparquet-2023.8.0 nfl_data_py-0.3.1 python-snappy-0.6.1\n",
            "Mounted at /content/drive\n"
          ]
        }
      ],
      "source": [
        "# Install the library for NFL Data\n",
        "!pip install nfl_data_py\n",
        "import nfl_data_py as nfl\n",
        "\n",
        "# Imports\n",
        "import pandas as pd\n",
        "import matplotlib.pyplot as plt\n",
        "import matplotlib.image as mpimg\n",
        "from matplotlib import axes\n",
        "from matplotlib.ticker import FuncFormatter\n",
        "import numpy as np\n",
        "from PIL import Image\n",
        "\n",
        "#import os\n",
        "import urllib.request\n",
        "from matplotlib.offsetbox import OffsetImage, AnnotationBbox\n",
        "\n",
        "from google.colab import drive\n",
        "\n",
        "drive.mount('/content/drive', force_remount=False)"
      ]
    },
    {
      "cell_type": "code",
      "source": [
        "gm = nfl.import_pbp_data([2023])\n",
        "pd.set_option('display.max_columns', None)\n",
        "gm = gm[gm[\"game_id\"] == \"2023_03_LAC_MIN\"]\n",
        "\n",
        "gm.head(30)"
      ],
      "metadata": {
        "id": "5gUqIhn6Turb"
      },
      "execution_count": null,
      "outputs": []
    },
    {
      "cell_type": "code",
      "source": [
        "lac_min = gm[[\"posteam\",\"play_type\", \"drive\", \"qtr\", \"time\", \"yardline_100\", \"ydsnet\", \"drive_end_transition\"]]\n",
        "\n",
        "# lac_min = lac_min[(lac_min[\"play_type\"] == \"pass\") | (lac_min[\"play_type\"] == \"run\") | (lac_min[\"play_type\"] == \"no_play\")]\n",
        "lac_min = lac_min[lac_min['play_type'] != \"kickoff\"]\n",
        "lac_min = lac_min[lac_min['play_type'] != \"extra_point\"]\n",
        "\n",
        "lac_min = lac_min.sort_values(by = [\"qtr\",\"time\"], ascending = [True, False]).reset_index(drop = True)\n",
        "\n",
        "drive_start = lac_min.groupby('drive').first().reset_index()\n",
        "drive_end = lac_min.groupby('drive').last().reset_index()\n",
        "\n",
        "drive = pd.merge(drive_start, drive_end, on=['drive'])\n",
        "\n",
        "drive = drive.rename(columns={'qtr_x': 'qtr',\n",
        "  'posteam_x': 'posteam',\n",
        "  'yardline_100_y': 'yardline_end',\n",
        "  'yardline_100_x': 'yardline_start',\n",
        "  'drive_end_transition_x': 'drive_result'})\n",
        "\n",
        "drive_final = drive[[\"drive\", \"posteam\", \"qtr\", \"yardline_start\", \"yardline_end\", \"drive_result\"]]\n",
        "\n",
        "drive_final.loc[drive_final['drive_result'] == \"TOUCHDOWN\", ['yardline_end']] = 0\n",
        "\n",
        "qtr_drive = drive_final.groupby('qtr').last().reset_index()\n",
        "\n",
        "drive_final.head(24)"
      ],
      "metadata": {
        "id": "E4n5b3FLTzHM"
      },
      "execution_count": null,
      "outputs": []
    },
    {
      "cell_type": "code",
      "source": [
        "teamcolor = {'ARI':'#97233F','ATL':'#A71930','BAL':'#241773','BUF':'#00338D','CAR':'#0085CA','CHI':'#00143F',\n",
        "          'CIN':'#FB4F14','CLE':'#FB4F14','DAL':'#B0B7BC','DEN':'#002244','DET':'#046EB4','GB':'#24423C',\n",
        "          'HOU':'#C9243F','IND':'#003D79','JAX':'#136677','KC':'#CA2430','LA':'#002147','LAC':'#2072BA',\n",
        "          'LV':'#C4C9CC','MIA':'#0091A0','MIN':'#4F2E84','NE':'#0A2342','NO':'#A08A58','NYG':'#192E6C',\n",
        "          'NYJ':'#203731','PHI':'#014A53','PIT':'#FFC20E','SEA':'#7AC142','SF':'#C9243F','TB':'#D40909',\n",
        "          'TEN':'#4095D1','WAS':'#FFC20F'}\n",
        "\n",
        "tm_colors = [teamcolor.get(team) for team in drive_final[\"posteam\"]]\n",
        "\n",
        "# Create a figure and axis\n",
        "fig, ax = plt.subplots(figsize=(16, 6))\n",
        "\n",
        "field_width = (len(drive_final[\"drive\"])-1) * 4 - 2\n",
        "field_length = 100\n",
        "\n",
        "# Set the background color to green\n",
        "# ax.set_facecolor('green')\n",
        "\n",
        "# Plot the field\n",
        "plt.plot([0, 0, field_length, field_length], [0, field_width, field_width, 0], color='white', lw=2)\n",
        "plt.xlim(-10, field_length+ 10)\n",
        "plt.ylim(-2, field_width)\n",
        "\n",
        "# len(drive_final[\"drive\"])\n",
        "for i in range(len(drive_final[\"drive\"])):\n",
        "  if drive_final[\"qtr\"][i] % 2 != 0:\n",
        "\n",
        "    if (drive_final[\"posteam\"][i] == \"LAC\"):\n",
        "      plt.barh(4*i, drive_final[\"yardline_end\"][i]  -  drive_final[\"yardline_start\"][i], left=drive_final[\"yardline_start\"][i], height=4, color=tm_colors[i], zorder = 10)\n",
        "\n",
        "    if (drive_final[\"posteam\"][i] == \"MIN\"):\n",
        "      plt.barh(4*i, drive_final[\"yardline_start\"][i] -  drive_final[\"yardline_end\"][i], left=(100-drive_final[\"yardline_start\"][i]), height=4, color=tm_colors[i], zorder = 10)\n",
        "\n",
        "  if drive_final[\"qtr\"][i] % 2 == 0:\n",
        "\n",
        "    if (drive_final[\"posteam\"][i] == \"LAC\"):\n",
        "      plt.barh(4*i, drive_final[\"yardline_start\"][i] -  drive_final[\"yardline_end\"][i], left=(100-drive_final[\"yardline_start\"][i]), height=4, color=tm_colors[i], zorder = 10)\n",
        "\n",
        "    if (drive_final[\"posteam\"][i] == \"MIN\"):\n",
        "      plt.barh(4*i, drive_final[\"yardline_end\"][i] -  drive_final[\"yardline_start\"][i], left=drive_final[\"yardline_start\"][i], height=4, color=tm_colors[i], zorder = 10)\n",
        "\n",
        "# Split quarters\n",
        "for i in range(len(qtr_drive[\"qtr\"])-1):\n",
        "  plt.axhline(qtr_drive[\"drive\"][i]* 4-2, color='r', linewidth = 3, zorder = 15)\n",
        "\n",
        "plt.axvline(0, color='k', linewidth = 3, zorder = 15)\n",
        "plt.axvline(100, color='k', linewidth = 3, zorder = 15)\n",
        "\n",
        "# Title\n",
        "ax.set_title('Yardage Fieldview of Game', fontsize=16)\n",
        "\n",
        "# Add labels\n",
        "plt.xlabel(\"Yard Line\")\n",
        "\n",
        "plt.xticks(np.arange(0, 105, 5))\n",
        "plt.yticks([])\n",
        "\n",
        "plt.grid(True)\n",
        "\n",
        "# Display the field\n",
        "plt.show()"
      ],
      "metadata": {
        "colab": {
          "base_uri": "https://localhost:8080/",
          "height": 566
        },
        "id": "9WDqQDf1V1KI",
        "outputId": "557ef44f-bd04-4b6e-9098-8c3c32148c44"
      },
      "execution_count": 152,
      "outputs": [
        {
          "output_type": "display_data",
          "data": {
            "text/plain": [
              "<Figure size 1600x600 with 1 Axes>"
            ],
            "image/png": "[encoded data removed]"
          },
          "metadata": {}
        }
      ]
    }
  ]
}