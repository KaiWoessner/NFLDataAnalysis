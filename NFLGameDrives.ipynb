{
  "nbformat": 4,
  "nbformat_minor": 0,
  "metadata": {
    "colab": {
      "provenance": [],
      "authorship_tag": "ABX9TyO+fCIE1O9N90B2XEpnaegu",
      "include_colab_link": true
    },
    "kernelspec": {
      "name": "python3",
      "display_name": "Python 3"
    },
    "language_info": {
      "name": "python"
    }
  },
  "cells": [
    {
      "cell_type": "markdown",
      "metadata": {
        "id": "view-in-github",
        "colab_type": "text"
      },
      "source": [
        "<a href=\"https://colab.research.google.com/github/KaiWoessner/NFLDataAnalysis/blob/main/NFLGameDrives.ipynb\" target=\"_parent\"><img src=\"https://colab.research.google.com/assets/colab-badge.svg\" alt=\"Open In Colab\"/></a>"
      ]
    },
    {
      "cell_type": "code",
      "execution_count": 1,
      "metadata": {
        "colab": {
          "base_uri": "https://localhost:8080/"
        },
        "id": "ADQTT244Tlee",
        "outputId": "1a675c0c-4fc2-48cb-fba5-e3d8fca4d4e0"
      },
      "outputs": [
        {
          "output_type": "stream",
          "name": "stdout",
          "text": [
            "Collecting nfl_data_py\n",
            "  Downloading nfl_data_py-0.3.1.tar.gz (16 kB)\n",
            "  Preparing metadata (setup.py) ... \u001b[?25l\u001b[?25hdone\n",
            "Requirement already satisfied: pandas>1 in /usr/local/lib/python3.10/dist-packages (from nfl_data_py) (1.5.3)\n",
            "Requirement already satisfied: appdirs>1 in /usr/local/lib/python3.10/dist-packages (from nfl_data_py) (1.4.4)\n",
            "Collecting fastparquet>0.5 (from nfl_data_py)\n",
            "  Downloading fastparquet-2023.8.0-cp310-cp310-manylinux_2_17_x86_64.manylinux2014_x86_64.whl (1.7 MB)\n",
            "\u001b[2K     \u001b[90m━━━━━━━━━━━━━━━━━━━━━━━━━━━━━━━━━━━━━━━━\u001b[0m \u001b[32m1.7/1.7 MB\u001b[0m \u001b[31m6.7 MB/s\u001b[0m eta \u001b[36m0:00:00\u001b[0m\n",
            "\u001b[?25hCollecting python-snappy>0.5 (from nfl_data_py)\n",
            "  Downloading python_snappy-0.6.1-cp310-cp310-manylinux_2_12_x86_64.manylinux2010_x86_64.whl (55 kB)\n",
            "\u001b[2K     \u001b[90m━━━━━━━━━━━━━━━━━━━━━━━━━━━━━━━━━━━━━━━━\u001b[0m \u001b[32m55.9/55.9 kB\u001b[0m \u001b[31m6.8 MB/s\u001b[0m eta \u001b[36m0:00:00\u001b[0m\n",
            "\u001b[?25hRequirement already satisfied: numpy>=1.20.3 in /usr/local/lib/python3.10/dist-packages (from fastparquet>0.5->nfl_data_py) (1.23.5)\n",
            "Collecting cramjam>=2.3 (from fastparquet>0.5->nfl_data_py)\n",
            "  Downloading cramjam-2.7.0-cp310-cp310-manylinux_2_17_x86_64.manylinux2014_x86_64.whl (1.6 MB)\n",
            "\u001b[2K     \u001b[90m━━━━━━━━━━━━━━━━━━━━━━━━━━━━━━━━━━━━━━━━\u001b[0m \u001b[32m1.6/1.6 MB\u001b[0m \u001b[31m13.7 MB/s\u001b[0m eta \u001b[36m0:00:00\u001b[0m\n",
            "\u001b[?25hRequirement already satisfied: fsspec in /usr/local/lib/python3.10/dist-packages (from fastparquet>0.5->nfl_data_py) (2023.6.0)\n",
            "Requirement already satisfied: packaging in /usr/local/lib/python3.10/dist-packages (from fastparquet>0.5->nfl_data_py) (23.2)\n",
            "Requirement already satisfied: python-dateutil>=2.8.1 in /usr/local/lib/python3.10/dist-packages (from pandas>1->nfl_data_py) (2.8.2)\n",
            "Requirement already satisfied: pytz>=2020.1 in /usr/local/lib/python3.10/dist-packages (from pandas>1->nfl_data_py) (2023.3.post1)\n",
            "Requirement already satisfied: six>=1.5 in /usr/local/lib/python3.10/dist-packages (from python-dateutil>=2.8.1->pandas>1->nfl_data_py) (1.16.0)\n",
            "Building wheels for collected packages: nfl_data_py\n",
            "  Building wheel for nfl_data_py (setup.py) ... \u001b[?25l\u001b[?25hdone\n",
            "  Created wheel for nfl_data_py: filename=nfl_data_py-0.3.1-py3-none-any.whl size=13187 sha256=4534dfdf9cf9cfd74a22486bbe51c555a86c28dd64d159f6965a02d3934b0ad9\n",
            "  Stored in directory: /root/.cache/pip/wheels/ca/2e/d2/4def312ac7c070e1c0002e91ecc6923481a86c3ebd5b2c5413\n",
            "Successfully built nfl_data_py\n",
            "Installing collected packages: python-snappy, cramjam, fastparquet, nfl_data_py\n",
            "Successfully installed cramjam-2.7.0 fastparquet-2023.8.0 nfl_data_py-0.3.1 python-snappy-0.6.1\n",
            "Mounted at /content/drive\n"
          ]
        }
      ],
      "source": [
        "# Install the library for NFL Data\n",
        "!pip install nfl_data_py\n",
        "import nfl_data_py as nfl\n",
        "\n",
        "# Imports\n",
        "import pandas as pd\n",
        "import matplotlib.pyplot as plt\n",
        "import matplotlib.image as mpimg\n",
        "from matplotlib import axes\n",
        "from matplotlib.ticker import FuncFormatter\n",
        "import numpy as np\n",
        "from PIL import Image\n",
        "\n",
        "#import os\n",
        "import urllib.request\n",
        "from matplotlib.offsetbox import OffsetImage, AnnotationBbox\n",
        "\n",
        "from google.colab import drive\n",
        "\n",
        "drive.mount('/content/drive', force_remount=False)"
      ]
    },
    {
      "cell_type": "code",
      "source": [
        "gm = nfl.import_pbp_data([2023])\n",
        "pd.set_option('display.max_columns', None)\n",
        "gm = gm[gm[\"game_id\"] == \"2023_03_LAC_MIN\"]\n",
        "\n",
        "gm.head(30)"
      ],
      "metadata": {
        "id": "5gUqIhn6Turb"
      },
      "execution_count": null,
      "outputs": []
    },
    {
      "cell_type": "code",
      "source": [
        "lac_min = gm[[\"posteam\",\"play_type\", \"drive\", \"qtr\", \"time\", \"yardline_100\", \"ydsnet\", \"drive_end_transition\"]]\n",
        "\n",
        "# lac_min = lac_min[(lac_min[\"play_type\"] == \"pass\") | (lac_min[\"play_type\"] == \"run\") | (lac_min[\"play_type\"] == \"no_play\")]\n",
        "lac_min = lac_min[lac_min['play_type'] != \"kickoff\"]\n",
        "lac_min = lac_min[lac_min['play_type'] != \"extra_point\"]\n",
        "\n",
        "lac_min = lac_min.sort_values(by = [\"qtr\",\"time\"], ascending = [True, False]).reset_index(drop = True)\n",
        "\n",
        "drive_start = lac_min.groupby('drive').first().reset_index()\n",
        "drive_end = lac_min.groupby('drive').last().reset_index()\n",
        "\n",
        "\n",
        "print(drive_start)\n",
        "print(drive_end)"
      ],
      "metadata": {
        "colab": {
          "base_uri": "https://localhost:8080/"
        },
        "id": "E4n5b3FLTzHM",
        "outputId": "fc84c42e-7e8b-4641-dc41-ea1a97b61407"
      },
      "execution_count": 96,
      "outputs": [
        {
          "output_type": "stream",
          "name": "stdout",
          "text": [
            "    drive posteam play_type  qtr   time  yardline_100  ydsnet  \\\n",
            "0     1.0     LAC       run  1.0  15:00          75.0     5.0   \n",
            "1     2.0     MIN       run  1.0  12:43          57.0    40.0   \n",
            "2     3.0     LAC      pass  1.0  08:32          79.0    79.0   \n",
            "3     4.0     MIN      pass  1.0  02:51          75.0    22.0   \n",
            "4     5.0     LAC       run  2.0  14:53          80.0    22.0   \n",
            "5     6.0     MIN      pass  2.0  10:13          75.0    75.0   \n",
            "6     7.0     LAC      pass  2.0  07:27          75.0    18.0   \n",
            "7     8.0     MIN       run  2.0  06:02          45.0    40.0   \n",
            "8     9.0     LAC      pass  2.0  02:08          75.0    75.0   \n",
            "9    10.0     MIN      pass  2.0  00:47          75.0    24.0   \n",
            "10   11.0     MIN       run  3.0  15:00          75.0    23.0   \n",
            "11   12.0     LAC       run  3.0  13:40          94.0    59.0   \n",
            "12   13.0     MIN       run  3.0  10:50          57.0    11.0   \n",
            "13   14.0     LAC       run  3.0  07:04          80.0    80.0   \n",
            "14   15.0     MIN      pass  3.0  05:53          75.0    75.0   \n",
            "15   16.0     LAC      pass  3.0  03:01          75.0     6.0   \n",
            "16   17.0     MIN       run  3.0  00:07          83.0    83.0   \n",
            "17   18.0     LAC      pass  4.0  11:20          75.0    75.0   \n",
            "18   19.0     MIN       run  4.0  08:05          75.0    73.0   \n",
            "19   20.0     LAC      pass  4.0  02:53          98.0    22.0   \n",
            "20   21.0     MIN      pass  4.0  01:47          24.0    18.0   \n",
            "21   22.0     LAC  qb_kneel  4.0  00:07          80.0    -1.0   \n",
            "\n",
            "   drive_end_transition  \n",
            "0                  PUNT  \n",
            "1                FUMBLE  \n",
            "2             TOUCHDOWN  \n",
            "3                  PUNT  \n",
            "4                  PUNT  \n",
            "5             TOUCHDOWN  \n",
            "6                FUMBLE  \n",
            "7            FIELD_GOAL  \n",
            "8             TOUCHDOWN  \n",
            "9              END_HALF  \n",
            "10                 PUNT  \n",
            "11            MISSED_FG  \n",
            "12                 PUNT  \n",
            "13            TOUCHDOWN  \n",
            "14            TOUCHDOWN  \n",
            "15                 PUNT  \n",
            "16            TOUCHDOWN  \n",
            "17            TOUCHDOWN  \n",
            "18                DOWNS  \n",
            "19                DOWNS  \n",
            "20         INTERCEPTION  \n",
            "21             END_GAME  \n",
            "    drive posteam   play_type  qtr   time  yardline_100  ydsnet  \\\n",
            "0     1.0     LAC        punt  1.0  12:54          70.0     5.0   \n",
            "1     2.0     MIN        pass  1.0  08:41          26.0    40.0   \n",
            "2     3.0     LAC        pass  1.0  02:55           3.0    79.0   \n",
            "3     4.0     MIN        punt  2.0  15:00          53.0    22.0   \n",
            "4     5.0     LAC        punt  2.0  10:21          58.0    22.0   \n",
            "5     6.0     MIN        pass  2.0  07:33           4.0    75.0   \n",
            "6     7.0     LAC        pass  2.0  06:11          61.0    18.0   \n",
            "7     8.0     MIN  field_goal  2.0  02:11           5.0    40.0   \n",
            "8     9.0     LAC        pass  2.0  00:50           1.0    75.0   \n",
            "9    10.0     MIN        pass  2.0  00:00          51.0    24.0   \n",
            "10   11.0     MIN        punt  3.0  13:47          52.0    23.0   \n",
            "11   12.0     LAC  field_goal  3.0  10:54          35.0    59.0   \n",
            "12   13.0     MIN        punt  3.0  07:10          46.0    11.0   \n",
            "13   14.0     LAC        pass  3.0  06:01          49.0    80.0   \n",
            "14   15.0     MIN        pass  3.0  03:09          36.0    75.0   \n",
            "15   16.0     LAC        punt  3.0  00:15          69.0     6.0   \n",
            "16   17.0     MIN        pass  4.0  11:30          52.0    83.0   \n",
            "17   18.0     LAC        pass  4.0  08:11          30.0    75.0   \n",
            "18   19.0     MIN        pass  4.0  02:58           2.0    73.0   \n",
            "19   20.0     LAC         run  4.0  01:51          76.0    22.0   \n",
            "20   21.0     MIN        pass  4.0  00:12           6.0    18.0   \n",
            "21   22.0     LAC    qb_kneel  4.0  00:00          80.0    -1.0   \n",
            "\n",
            "   drive_end_transition  \n",
            "0                  PUNT  \n",
            "1                FUMBLE  \n",
            "2             TOUCHDOWN  \n",
            "3                  PUNT  \n",
            "4                  PUNT  \n",
            "5             TOUCHDOWN  \n",
            "6                FUMBLE  \n",
            "7            FIELD_GOAL  \n",
            "8             TOUCHDOWN  \n",
            "9              END_HALF  \n",
            "10                 PUNT  \n",
            "11            MISSED_FG  \n",
            "12                 PUNT  \n",
            "13            TOUCHDOWN  \n",
            "14            TOUCHDOWN  \n",
            "15                 PUNT  \n",
            "16            TOUCHDOWN  \n",
            "17            TOUCHDOWN  \n",
            "18                DOWNS  \n",
            "19                DOWNS  \n",
            "20         INTERCEPTION  \n",
            "21             END_GAME  \n"
          ]
        }
      ]
    },
    {
      "cell_type": "code",
      "source": [
        "# Create a figure and axis\n",
        "fig, ax = plt.subplots()\n",
        "\n",
        "field_width = 100\n",
        "field_length = 120\n",
        "\n",
        "# Set the background color to green\n",
        "# ax.set_facecolor('green')\n",
        "\n",
        "# Plot the field\n",
        "plt.plot([0, 0, field_length, field_length], [0, field_width, field_width, 0], color='white', lw=2)\n",
        "plt.xlim(0, field_length)\n",
        "plt.ylim(0, field_width)\n",
        "\n",
        "# Plot the start and end positions as horizontal bars\n",
        "# len(drive_start[\"drive\"])\n",
        "for i in range(2):\n",
        "  if drive_start[\"qtr\"][i] % 2 != 0:\n",
        "    if (drive_start[\"posteam\"][i] == \"LAC\"):\n",
        "      print(\"HERE\")\n",
        "      plt.barh(3*i, drive_start[\"yardline_100\"][i]  -  (drive_start[\"yardline_100\"][i] + drive_start[\"ydsnet\"][i]), left=drive_start[\"yardline_100\"][i], height=3, color='blue', alpha=1, label=\"End\", zorder = 10)\n",
        "    if (drive_start[\"posteam\"][i] == \"MIN\"):\n",
        "      plt.barh(3*i, drive_start[\"yardline_100\"][i] +  drive_start[\"ydsnet\"][i], left=drive_start[\"yardline_100\"][i], height=3, color='purple', alpha=1, label=\"End\", zorder = 10)\n",
        "  if drive_start[\"qtr\"][i] % 2 == 0:\n",
        "    if (drive_start[\"posteam\"][i] == \"LAC\"):\n",
        "      plt.barh(3*i, drive_start[\"yardline_100\"][i] +  drive_start[\"ydsnet\"][i], left=drive_start[\"yardline_100\"][i], height=3, color='blue', alpha=1, label=\"End\", zorder = 10)\n",
        "    if (drive_start[\"posteam\"][i] == \"MIN\"):\n",
        "      plt.barh(3*i, drive_start[\"yardline_100\"][i], left=drive_start[\"yardline_100\"][i] -  drive_start[\"ydsnet\"][i], height=3, color='purple', alpha=1, label=\"End\", zorder = 10)\n",
        "\n",
        "# Add labels and legend\n",
        "plt.xlabel(\"Yard Line\")\n",
        "plt.grid(True)\n",
        "\n",
        "# Display the field\n",
        "plt.show()"
      ],
      "metadata": {
        "colab": {
          "base_uri": "https://localhost:8080/",
          "height": 472
        },
        "id": "9WDqQDf1V1KI",
        "outputId": "31f128ab-0785-411d-c390-c57f814b90cb"
      },
      "execution_count": 92,
      "outputs": [
        {
          "output_type": "stream",
          "name": "stdout",
          "text": [
            "HERE\n"
          ]
        },
        {
          "output_type": "display_data",
          "data": {
            "text/plain": [
              "<Figure size 640x480 with 1 Axes>"
            ],
            "image/png": "[encoded data removed]"
          },
          "metadata": {}
        }
      ]
    }
  ]
}